{
 "cells": [
  {
   "cell_type": "code",
   "execution_count": 1,
   "metadata": {},
   "outputs": [],
   "source": [
    "\n",
    "# This cell is to load user and password of my database from an .txt file, which will not be pushed to the repository\n",
    "# Assign your user name and password to lldb_user and lldb_password variables\n",
    "with open('db_credentials.txt','r') as file:\n",
    "    lines = file.readlines()\n",
    "lldb_user = lines[0]\n",
    "lldb_password = lines[1]\n",
    "    "
   ]
  },
  {
   "cell_type": "code",
   "execution_count": 2,
   "metadata": {},
   "outputs": [],
   "source": [
    "import mysql.connector as connector\n",
    "from mysql.connector import Error"
   ]
  },
  {
   "cell_type": "code",
   "execution_count": 3,
   "metadata": {},
   "outputs": [],
   "source": [
    "try:\n",
    "    connection = connector.connect(user = lldb_user, password = lldb_password, db = 'littlelemondb')\n",
    "except Error as e:\n",
    "    print('An error has occurred with an error code: {} \\n and message: {}'.format(e.errno,e.msg))"
   ]
  },
  {
   "cell_type": "code",
   "execution_count": 4,
   "metadata": {},
   "outputs": [],
   "source": [
    "cursor = connection.cursor()\n",
    "cursor.execute('SHOW tables')"
   ]
  },
  {
   "cell_type": "code",
   "execution_count": 5,
   "metadata": {},
   "outputs": [
    {
     "name": "stdout",
     "output_type": "stream",
     "text": [
      "('bookings',)\n",
      "('customers',)\n",
      "('deliveries',)\n",
      "('items',)\n",
      "('menuitems',)\n",
      "('menus',)\n",
      "('orders',)\n",
      "('ordersview',)\n",
      "('staff',)\n"
     ]
    }
   ],
   "source": [
    "results = cursor.fetchall()\n",
    "for table in results:\n",
    "    print(table)"
   ]
  },
  {
   "cell_type": "code",
   "execution_count": 6,
   "metadata": {},
   "outputs": [
    {
     "name": "stdout",
     "output_type": "stream",
     "text": [
      "('Customer Full Name', 'Email', 'Phone', 'TotalCost')\n",
      "('Vanessa McCarthy', 'vanessa.m@globalsuperstore.com', 361255597, Decimal('92'))\n",
      "('Joakim Iversen', 'j.iversen@yahoo.com', 352253781, Decimal('78'))\n",
      "('Anna Iversen', 'anna.iversen@gmail.com', 351259642, Decimal('280'))\n",
      "('Anna Iversen', 'anna.iversen@gmail.com', 351259642, Decimal('138'))\n",
      "('Vanessa McCarthy', 'vanessa.m@globalsuperstore.com', 361255597, Decimal('120'))\n",
      "('Diana Pinto', 'diana.pinto@finance.org.us', 751100242, Decimal('184'))\n"
     ]
    }
   ],
   "source": [
    "cursor.execute(\"\"\"\n",
    "SELECT CONCAT(bc.FirstName, ' ', bc.LastName) AS 'Customer Full Name', bc.Email, bc.Phone, o.TotalCost\n",
    "FROM Orders AS o \n",
    "LEFT JOIN \n",
    "\t(SELECT b.BookingID, c.CustomerID, c.FirstName, c.LastName, c.Email, c.Phone\n",
    "    FROM Bookings AS b\n",
    "    LEFT JOIN Customers AS c \n",
    "    ON b.CustomerID = c.CustomerID) AS bc\n",
    "ON o.BookingID = bc.BookingID\n",
    "WHERE o.TotalCost > 60;\n",
    "\"\"\")\n",
    "\n",
    "print(cursor.column_names)\n",
    "\n",
    "for record in cursor.fetchall():\n",
    "    print (record)"
   ]
  },
  {
   "cell_type": "code",
   "execution_count": 7,
   "metadata": {},
   "outputs": [],
   "source": [
    "def CallStoredProcedure(procedureCallQuery, parameters_tuple = None):\n",
    "    try:\n",
    "        cursor = connection.cursor()\n",
    "        if parameters_tuple == None:\n",
    "            cursor.execute(procedureCallQuery)\n",
    "        else:\n",
    "            cursor.execute(procedureCallQuery, parameters_tuple)\n",
    "        while True:\n",
    "            print (cursor.column_names)\n",
    "            for record in cursor.fetchall():\n",
    "                print(record)\n",
    "            if not cursor.nextset():\n",
    "                break\n",
    "    except Error as e:\n",
    "        print('An error has occurred with an error code: {} \\n and message: {}'.format(e.errno,e.msg))  \n",
    "    finally:\n",
    "        cursor.close()"
   ]
  },
  {
   "cell_type": "code",
   "execution_count": 8,
   "metadata": {},
   "outputs": [
    {
     "name": "stdout",
     "output_type": "stream",
     "text": [
      "('Max Quantity in Order',)\n",
      "(5,)\n",
      "()\n"
     ]
    }
   ],
   "source": [
    "CallStoredProcedure(\"CALL GetMaxQuantity();\")"
   ]
  },
  {
   "cell_type": "code",
   "execution_count": 9,
   "metadata": {},
   "outputs": [
    {
     "name": "stdout",
     "output_type": "stream",
     "text": [
      "('Booking Status',)\n",
      "('Table 6 has been booked for 2025-02-28.',)\n",
      "()\n"
     ]
    }
   ],
   "source": [
    "CallStoredProcedure(\"CALL ManageBooking(%s,%s);\",(\"2025-02-28\",6))"
   ]
  },
  {
   "cell_type": "code",
   "execution_count": 10,
   "metadata": {},
   "outputs": [
    {
     "name": "stdout",
     "output_type": "stream",
     "text": [
      "('Booking Status',)\n",
      "('Table 6 is already booked on 2025-02-28 - booking cancelled.',)\n",
      "()\n"
     ]
    }
   ],
   "source": [
    "CallStoredProcedure(\"CALL ManageBooking(%s,%s);\",(\"2025-02-28\",6))"
   ]
  },
  {
   "cell_type": "code",
   "execution_count": 11,
   "metadata": {},
   "outputs": [
    {
     "name": "stdout",
     "output_type": "stream",
     "text": [
      "('Booking Status',)\n",
      "('Table 5 is already booked on 2022-10-10 - booking cancelled.',)\n",
      "()\n"
     ]
    }
   ],
   "source": [
    "CallStoredProcedure(\"CALL ManageBooking(%s,%s);\",(\"2022-10-10\",5))"
   ]
  },
  {
   "cell_type": "code",
   "execution_count": 12,
   "metadata": {},
   "outputs": [
    {
     "name": "stdout",
     "output_type": "stream",
     "text": [
      "('Booking Status',)\n",
      "('Table 99 has been booked for 2022-12-10. New booking added.',)\n",
      "()\n"
     ]
    }
   ],
   "source": [
    "CallStoredProcedure(\"CALL AddBooking(%s,%s,%s,%s);\",(99, 99, 99,\"2022-12-10\" ))"
   ]
  },
  {
   "cell_type": "code",
   "execution_count": 13,
   "metadata": {},
   "outputs": [
    {
     "name": "stdout",
     "output_type": "stream",
     "text": [
      "('Message',)\n",
      "('The BookingID - 99 has been taken. Select another one.',)\n",
      "()\n"
     ]
    }
   ],
   "source": [
    "CallStoredProcedure(\"CALL AddBooking(%s,%s,%s,%s);\",(99, 99, 99,\"2022-12-10\" ))"
   ]
  },
  {
   "cell_type": "code",
   "execution_count": 14,
   "metadata": {},
   "outputs": [
    {
     "name": "stdout",
     "output_type": "stream",
     "text": [
      "('Confirmation',)\n",
      "('Booking 99 updated.',)\n",
      "()\n"
     ]
    }
   ],
   "source": [
    "CallStoredProcedure(\"CALL UpdateBooking(%s,%s);\",(99, \"2022-1-10\"))"
   ]
  },
  {
   "cell_type": "code",
   "execution_count": 15,
   "metadata": {},
   "outputs": [
    {
     "name": "stdout",
     "output_type": "stream",
     "text": [
      "('Confirmation',)\n",
      "('Booking 99 cancelled.',)\n",
      "()\n"
     ]
    }
   ],
   "source": [
    "CallStoredProcedure(\"CALL CancelBooking(%s);\",(99,))"
   ]
  },
  {
   "cell_type": "code",
   "execution_count": 16,
   "metadata": {},
   "outputs": [
    {
     "name": "stdout",
     "output_type": "stream",
     "text": [
      "Connection has been closed\n"
     ]
    }
   ],
   "source": [
    "# Close the connection\n",
    "if connection.is_connected():\n",
    "    cursor.close()\n",
    "    connection.close()\n",
    "    print(\"Connection has been closed\")\n",
    "else:\n",
    "    print(\"Connection was closed\")"
   ]
  }
 ],
 "metadata": {
  "kernelspec": {
   "display_name": "base",
   "language": "python",
   "name": "python3"
  },
  "language_info": {
   "codemirror_mode": {
    "name": "ipython",
    "version": 3
   },
   "file_extension": ".py",
   "mimetype": "text/x-python",
   "name": "python",
   "nbconvert_exporter": "python",
   "pygments_lexer": "ipython3",
   "version": "3.10.12"
  }
 },
 "nbformat": 4,
 "nbformat_minor": 2
}
