{
 "cells": [
  {
   "cell_type": "code",
   "execution_count": 3,
   "metadata": {},
   "outputs": [],
   "source": [
    "\n",
    "# This cell is to load user and password of my database from an .txt file, which will not be pushed to the repository\n",
    "# Assign your user name and password to lldb_user and lldb_password variables\n",
    "with open('db_credentials.txt','r') as file:\n",
    "    lines = file.readlines()\n",
    "lldb_user = lines[0]\n",
    "lldb_password = lines[1]\n",
    "    "
   ]
  },
  {
   "cell_type": "code",
   "execution_count": 4,
   "metadata": {},
   "outputs": [],
   "source": [
    "import mysql.connector as connector\n",
    "from mysql.connector import Error"
   ]
  },
  {
   "cell_type": "code",
   "execution_count": 5,
   "metadata": {},
   "outputs": [],
   "source": [
    "try:\n",
    "    connection = connector.connect(user = lldb_user, password = lldb_password, db = 'littlelemondb')\n",
    "except Error as e:\n",
    "    print('An error has occurred with an error code: {} \\n and message: {}'.format(e.errno,e.msg))"
   ]
  },
  {
   "cell_type": "code",
   "execution_count": 6,
   "metadata": {},
   "outputs": [],
   "source": [
    "cursor = connection.cursor()\n",
    "cursor.execute('SHOW tables')"
   ]
  },
  {
   "cell_type": "code",
   "execution_count": 7,
   "metadata": {},
   "outputs": [
    {
     "name": "stdout",
     "output_type": "stream",
     "text": [
      "('bookings',)\n",
      "('customers',)\n",
      "('deliveries',)\n",
      "('items',)\n",
      "('menuitems',)\n",
      "('menus',)\n",
      "('orders',)\n",
      "('ordersview',)\n",
      "('staff',)\n"
     ]
    }
   ],
   "source": [
    "results = cursor.fetchall()\n",
    "for table in results:\n",
    "    print(table)"
   ]
  },
  {
   "cell_type": "code",
   "execution_count": 8,
   "metadata": {},
   "outputs": [
    {
     "name": "stdout",
     "output_type": "stream",
     "text": [
      "('Customer Full Name', 'Email', 'Phone', 'TotalCost')\n",
      "('Joakim Iversen', 'j.iversen@yahoo.com', 352253781, Decimal('92'))\n",
      "('Diana Pinto', 'diana.pinto@finance.org.us', 751100242, Decimal('78'))\n",
      "('Diana Pinto', 'diana.pinto@finance.org.us', 751100242, Decimal('120'))\n",
      "('Marcos Romero', 'marcos.romero2208@mangatagallo.us', 451252112, Decimal('184'))\n"
     ]
    }
   ],
   "source": [
    "cursor.execute(\"\"\"\n",
    "SELECT CONCAT(bc.FirstName, ' ', bc.LastName) AS 'Customer Full Name', bc.Email, bc.Phone, o.TotalCost\n",
    "FROM Orders AS o \n",
    "LEFT JOIN \n",
    "\t(SELECT b.BookingID, c.CustomerID, c.FirstName, c.LastName, c.Email, c.Phone\n",
    "    FROM Bookings AS b\n",
    "    LEFT JOIN Customers AS c \n",
    "    ON b.CustomerID = c.CustomerID) AS bc\n",
    "ON o.BookingID = bc.BookingID\n",
    "WHERE o.TotalCost > 60;\n",
    "\"\"\")\n",
    "\n",
    "print(cursor.column_names)\n",
    "\n",
    "for record in cursor.fetchall():\n",
    "    print (record)"
   ]
  },
  {
   "cell_type": "code",
   "execution_count": 10,
   "metadata": {},
   "outputs": [
    {
     "name": "stdout",
     "output_type": "stream",
     "text": [
      "Connection was closed\n"
     ]
    }
   ],
   "source": [
    "# Close the connection\n",
    "if connection.is_connected():\n",
    "    cursor.close()\n",
    "    connection.close()\n",
    "    print(\"Connection has been closed\")\n",
    "else:\n",
    "    print(\"Connection was closed\")"
   ]
  }
 ],
 "metadata": {
  "kernelspec": {
   "display_name": "base",
   "language": "python",
   "name": "python3"
  },
  "language_info": {
   "codemirror_mode": {
    "name": "ipython",
    "version": 3
   },
   "file_extension": ".py",
   "mimetype": "text/x-python",
   "name": "python",
   "nbconvert_exporter": "python",
   "pygments_lexer": "ipython3",
   "version": "3.10.12"
  }
 },
 "nbformat": 4,
 "nbformat_minor": 2
}
