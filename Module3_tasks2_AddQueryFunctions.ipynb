{
 "cells": [
  {
   "cell_type": "code",
   "execution_count": 178,
   "metadata": {},
   "outputs": [],
   "source": [
    "\n",
    "# This cell is to load user and password of my database from an .txt file, which will not be pushed to the repository\n",
    "# Assign your user name and password to lldb_user and lldb_password variables\n",
    "with open('db_credentials.txt','r') as file:\n",
    "    lines = file.readlines()\n",
    "lldb_user = lines[0]\n",
    "lldb_password = lines[1]\n",
    "    "
   ]
  },
  {
   "cell_type": "code",
   "execution_count": 179,
   "metadata": {},
   "outputs": [],
   "source": [
    "import mysql.connector as connector\n",
    "from mysql.connector import Error"
   ]
  },
  {
   "cell_type": "code",
   "execution_count": 180,
   "metadata": {},
   "outputs": [],
   "source": [
    "try:\n",
    "    connection = connector.connect(user = lldb_user, password = lldb_password, db = 'littlelemondb')\n",
    "except Error as e:\n",
    "    print('An error has occurred with an error code: {} \\n and message: {}'.format(e.errno,e.msg))"
   ]
  },
  {
   "cell_type": "code",
   "execution_count": 181,
   "metadata": {},
   "outputs": [],
   "source": [
    "cursor = connection.cursor()\n",
    "cursor.execute('SHOW tables')"
   ]
  },
  {
   "cell_type": "code",
   "execution_count": 182,
   "metadata": {},
   "outputs": [
    {
     "name": "stdout",
     "output_type": "stream",
     "text": [
      "('bookings',)\n",
      "('customers',)\n",
      "('deliveries',)\n",
      "('items',)\n",
      "('menuitems',)\n",
      "('menus',)\n",
      "('orders',)\n",
      "('staff',)\n"
     ]
    }
   ],
   "source": [
    "results = cursor.fetchall()\n",
    "for table in results:\n",
    "    print(table)"
   ]
  },
  {
   "cell_type": "code",
   "execution_count": 183,
   "metadata": {},
   "outputs": [
    {
     "name": "stdout",
     "output_type": "stream",
     "text": [
      "('Customer Full Name', 'Email', 'Phone', 'TotalCost')\n",
      "('Joakim Iversen', 'j.iversen@yahoo.com', 352253781, Decimal('92'))\n",
      "('Diana Pinto', 'diana.pinto@finance.org.us', 751100242, Decimal('78'))\n",
      "('Vanessa McCarthy', 'vanessa.m@globalsuperstore.com', 361255597, Decimal('280'))\n",
      "('Joakim Iversen', 'j.iversen@yahoo.com', 352253781, Decimal('138'))\n",
      "('Diana Pinto', 'diana.pinto@finance.org.us', 751100242, Decimal('120'))\n",
      "('Marcos Romero', 'marcos.romero2208@mangatagallo.us', 451252112, Decimal('184'))\n"
     ]
    }
   ],
   "source": [
    "cursor.execute(\"\"\"\n",
    "SELECT CONCAT(bc.FirstName, ' ', bc.LastName) AS 'Customer Full Name', bc.Email, bc.Phone, o.TotalCost\n",
    "FROM Orders AS o \n",
    "LEFT JOIN \n",
    "\t(SELECT b.BookingID, c.CustomerID, c.FirstName, c.LastName, c.Email, c.Phone\n",
    "    FROM Bookings AS b\n",
    "    LEFT JOIN Customers AS c \n",
    "    ON b.CustomerID = c.CustomerID) AS bc\n",
    "ON o.BookingID = bc.BookingID\n",
    "WHERE o.TotalCost > 60;\n",
    "\"\"\")\n",
    "\n",
    "print(cursor.column_names)\n",
    "\n",
    "for record in cursor.fetchall():\n",
    "    print (record)"
   ]
  },
  {
   "cell_type": "code",
   "execution_count": 190,
   "metadata": {},
   "outputs": [],
   "source": [
    "def CallStoredProcedure(procedureCallQuery, parameters_tuple = None):\n",
    "    try:\n",
    "        cursor = connection.cursor()\n",
    "        if parameters_tuple == None:\n",
    "            cursor.execute(procedureCallQuery)\n",
    "        else:\n",
    "            cursor.execute(procedureCallQuery, parameters_tuple)\n",
    "        while True:\n",
    "            print (cursor.column_names)\n",
    "            for record in cursor.fetchall():\n",
    "                print(record)\n",
    "            if not cursor.nextset():\n",
    "                break\n",
    "    except Error as e:\n",
    "        print('An error has occurred with an error code: {} \\n and message: {}'.format(e.errno,e.msg))  \n",
    "    finally:\n",
    "        cursor.close()"
   ]
  },
  {
   "cell_type": "code",
   "execution_count": 191,
   "metadata": {},
   "outputs": [
    {
     "name": "stdout",
     "output_type": "stream",
     "text": [
      "('Max Quantity in Order',)\n",
      "(5,)\n",
      "()\n"
     ]
    }
   ],
   "source": [
    "CallStoredProcedure(\"CALL GetMaxQuantity();\")"
   ]
  },
  {
   "cell_type": "code",
   "execution_count": 200,
   "metadata": {},
   "outputs": [
    {
     "name": "stdout",
     "output_type": "stream",
     "text": [
      "('Booking Status',)\n",
      "('Table 6 is already booked - booking cancelled',)\n",
      "()\n"
     ]
    }
   ],
   "source": [
    "CallStoredProcedure(\"CALL ManageBooking(%s,%s);\",(\"2025-02-28\",6))"
   ]
  },
  {
   "cell_type": "code",
   "execution_count": 201,
   "metadata": {},
   "outputs": [
    {
     "name": "stdout",
     "output_type": "stream",
     "text": [
      "An error has occurred with an error code: 1452 \n",
      " and message: Cannot add or update a child row: a foreign key constraint fails (`littlelemondb`.`bookings`, CONSTRAINT `customer_id_fk` FOREIGN KEY (`CustomerID`) REFERENCES `customers` (`CustomerID`) ON DELETE CASCADE ON UPDATE CASCADE)\n"
     ]
    }
   ],
   "source": [
    "CallStoredProcedure(\"CALL AddBooking(%s,%s,%s);\",(\"2022-12-18\",99, 99))"
   ]
  },
  {
   "cell_type": "code",
   "execution_count": null,
   "metadata": {},
   "outputs": [
    {
     "name": "stdout",
     "output_type": "stream",
     "text": [
      "('Booking Status',)\n",
      "('Table 4 is already booked - booking cancelled',)\n",
      "()\n"
     ]
    }
   ],
   "source": [
    "CallStoredProcedure(\"CALL UpdateBooking(%s,%s,%s);\",(\"2022-12-10\",4, 3))"
   ]
  },
  {
   "cell_type": "code",
   "execution_count": 175,
   "metadata": {},
   "outputs": [
    {
     "name": "stdout",
     "output_type": "stream",
     "text": [
      "Connection has been closed\n"
     ]
    }
   ],
   "source": [
    "# Close the connection\n",
    "if connection.is_connected():\n",
    "    cursor.close()\n",
    "    connection.close()\n",
    "    print(\"Connection has been closed\")\n",
    "else:\n",
    "    print(\"Connection was closed\")"
   ]
  }
 ],
 "metadata": {
  "kernelspec": {
   "display_name": "base",
   "language": "python",
   "name": "python3"
  },
  "language_info": {
   "codemirror_mode": {
    "name": "ipython",
    "version": 3
   },
   "file_extension": ".py",
   "mimetype": "text/x-python",
   "name": "python",
   "nbconvert_exporter": "python",
   "pygments_lexer": "ipython3",
   "version": "3.10.12"
  }
 },
 "nbformat": 4,
 "nbformat_minor": 2
}
